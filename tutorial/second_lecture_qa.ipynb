{
 "cells": [
  {
   "cell_type": "markdown",
   "metadata": {
    "slideshow": {
     "slide_type": "slide"
    }
   },
   "source": [
    "# QA session on Lecture 4 \n",
    "\n",
    "6th Feb. 2025"
   ]
  },
  {
   "cell_type": "markdown",
   "metadata": {
    "slideshow": {
     "slide_type": "slide"
    }
   },
   "source": [
    "## Question from Toshiki-san\n",
    "\n",
    "In notebook, we are exploring one point for each round, but can we consider exploring multiple points in one round?\n"
   ]
  },
  {
   "cell_type": "markdown",
   "metadata": {
    "slideshow": {
     "slide_type": "subslide"
    }
   },
   "source": [
    "## Answer\n",
    "\n",
    "**Yes!** It is known as **Batch Bayesian Optimization**. In the setting, we query next points $\\hat{x}_1, \\hat{x}_q$ that maximizes acquisition function \n",
    "$$\\hat{x}_1, \\dots, \\hat{x}_q = \\arg\\max \\alpha(x_1,\\dots, x_q)$$"
   ]
  },
  {
   "cell_type": "markdown",
   "metadata": {
    "slideshow": {
     "slide_type": "fragment"
    }
   },
   "source": [
    "Possible choice of aquisitions;\n",
    "\n",
    "-  **q-EI**: Jointly choose $\\hat{x}_1, \\dots, \\hat{x}_q$ by\n",
    "$$ \\hat{x}_1, \\dots, \\hat{x}_q = \\arg\\max_{x_1,\\dots, x_q} \\mathbb{E}[(\\max_{i=1,\\dots, q}  f(x_i) - y^*, 0)|\\mathcal{D}]$$\n",
    "\n",
    "- **Batch UCB**: Sequently choose $\\hat{x_i}$ by\n",
    "$$\\hat{x_i} = \\arg\\max \\mu(x|\\mathcal{D}) + \\beta \\sigma(x|\\mathcal{D}, {\\color{red} \\hat{x}_1, \\dots, \\hat{x}_{i-1}})$$\n",
    "\n",
    "-  **Thompson Sampling**\n",
    "$$ \\hat{x_i} = \\arg\\max_x f_i(x) \\quad f_i \\sim \\mathcal{GP}(\\cdot|\\mathcal{D})$$"
   ]
  },
  {
   "cell_type": "markdown",
   "metadata": {
    "slideshow": {
     "slide_type": "slide"
    }
   },
   "source": [
    "## Question from Toshiki-san and Yusuke N.-san\n",
    "\n",
    "How to sample initial points? Random sampling or any better choice?"
   ]
  },
  {
   "cell_type": "markdown",
   "metadata": {
    "slideshow": {
     "slide_type": "subslide"
    }
   },
   "source": [
    "## Answer\n",
    "\n",
    "- The influence of initial points is minimal **in theory**, BO converges to the minimizer no matter what inital point to start. \n",
    "\n",
    "- However, the model might stuck to local optima in some case, hence it is advisable to try different initial points\n",
    "\n",
    "- You can do both **random search** or **grid search**, and it is hard to tell which is better"
   ]
  },
  {
   "cell_type": "markdown",
   "metadata": {
    "slideshow": {
     "slide_type": "slide"
    }
   },
   "source": [
    "## Question from Yusuke U.-san\n",
    "\n",
    "There are two ways of encouraging exploration in EI. One is lifting threshold in EI by $\\xi$ as\n",
    "$$\\mathbb{E}[\\max(f(x) - y^* - \\xi, 0)]$$\n",
    "Another is use Augmented EI\n",
    "$$\\mathbb{E}[\\max(f(x) - y^*, 0)]\\left(1 - \\frac{\\sigma}{\\sqrt{Var[f(x)] + \\sigma^2}}\\right) $$\n",
    "Which is better?\n"
   ]
  },
  {
   "cell_type": "markdown",
   "metadata": {
    "slideshow": {
     "slide_type": "subslide"
    }
   },
   "source": [
    "## Answer\n",
    "\n",
    "It is difficult to say one is better than another, but I think AEI is more widely used...?"
   ]
  },
  {
   "cell_type": "markdown",
   "metadata": {
    "slideshow": {
     "slide_type": "slide"
    }
   },
   "source": [
    "## Question from Yusuke N.-san\n",
    "Is Probaility of Improment used?\n",
    "$$\\mathbb{P}[f(x) > y^*|\\mathcal{D}]$$\n",
    "(cf: EI: $\\mathbb{E}[\\max(f(x) - y^*, 0)|\\mathcal{D}]$)"
   ]
  },
  {
   "cell_type": "markdown",
   "metadata": {
    "slideshow": {
     "slide_type": "fragment"
    }
   },
   "source": [
    "I think people prefer EI over PI since EI can priortise where we can expect larger improvement, which is ignored in PI. "
   ]
  },
  {
   "cell_type": "code",
   "execution_count": 29,
   "metadata": {
    "slideshow": {
     "slide_type": "skip"
    }
   },
   "outputs": [],
   "source": [
    "# Silence some annyoing warnings:\n",
    "import os\n",
    "import warnings\n",
    "\n",
    "warnings.simplefilter(\"ignore\")\n",
    "os.environ[\"TF_CPP_MIN_LOG_LEVEL\"] = \"3\"\n",
    "\n",
    "# Support for maths\n",
    "import numpy as np\n",
    "import tensorflow as tf\n",
    "\n",
    "# Plotting tools\n",
    "from matplotlib import pyplot as plt\n",
    "# we use the following for plotting figures in jupyter\n",
    "%matplotlib inline\n",
    "\n",
    "# GPflow: Gaussian processes library\n",
    "import gpflow\n",
    "import trieste"
   ]
  },
  {
   "cell_type": "code",
   "execution_count": 7,
   "metadata": {
    "slideshow": {
     "slide_type": "skip"
    }
   },
   "outputs": [],
   "source": [
    "def forrester_true(x):\n",
    "    return (6.*x - 2)**2 * tf.sin(12.*x-4)\n",
    "\n",
    "def forrester_sim(x):\n",
    "    y = forrester_true(x)\n",
    "    noise = tf.random.normal(y.shape, 0.0, 0.25, dtype=y.dtype)\n",
    "    return y + noise\n",
    "\n",
    "search_space = trieste.space.Box([0.0], [1.])\n",
    "\n",
    "f_observer = trieste.objectives.utils.mk_observer(forrester_sim)"
   ]
  },
  {
   "cell_type": "markdown",
   "metadata": {
    "slideshow": {
     "slide_type": "slide"
    }
   },
   "source": [
    "## Bug found by Yu-ichiro san\n",
    "\n",
    "```\n",
    "n = 10\n",
    "X = np.random.default_rng(12345).random((n, 1))\n",
    "data = f_observer(X)\n",
    "search_space = trieste.space.Box([0.], [1.])\n",
    "\n",
    "gpflow_m = trieste.models.gpflow.build_gpr(data, search_space)\n",
    "m = trieste.models.gpflow.GaussianProcessRegression(gpflow_m)\n",
    "\n",
    "optimiser = gpflow.optimizers.Scipy()\n",
    "optimiser.minimize(gpflow_m.training_loss, gpflow_m.trainable_variables)\n",
    "```"
   ]
  },
  {
   "cell_type": "code",
   "execution_count": 33,
   "metadata": {
    "slideshow": {
     "slide_type": "skip"
    }
   },
   "outputs": [
    {
     "data": {
      "text/plain": [
       "  message: CONVERGENCE: REL_REDUCTION_OF_F_<=_FACTR*EPSMCH\n",
       "  success: True\n",
       "   status: 0\n",
       "      fun: 26.768853626792666\n",
       "        x: [-2.231e+00  2.017e+01  1.223e+00]\n",
       "      nit: 20\n",
       "      jac: [-1.252e-05  1.536e-06 -2.289e-06]\n",
       "     nfev: 21\n",
       "     njev: 21\n",
       " hess_inv: <3x3 LbfgsInvHessProduct with dtype=float64>"
      ]
     },
     "execution_count": 33,
     "metadata": {},
     "output_type": "execute_result"
    }
   ],
   "source": [
    "n = 10\n",
    "X = np.random.default_rng(12345).random((n, 1))\n",
    "data = f_observer(X)\n",
    "search_space = search_space = trieste.space.Box([0.], [1.])\n",
    "\n",
    "gpflow_m = trieste.models.gpflow.build_gpr(data, search_space)\n",
    "m = trieste.models.gpflow.GaussianProcessRegression(gpflow_m)\n",
    "\n",
    "optimiser = gpflow.optimizers.Scipy()\n",
    "optimiser.minimize(gpflow_m.training_loss, gpflow_m.trainable_variables)\n",
    "\n"
   ]
  },
  {
   "cell_type": "markdown",
   "metadata": {
    "slideshow": {
     "slide_type": "subslide"
    }
   },
   "source": [
    "Plot the results\n",
    "```\n",
    "Xplot = np.linspace([0.0], [1.0], 200)\n",
    "m_mean, _ = m.predict(Xplot)\n",
    "gpflow_mean, _ = gpflow_m.predict_f(Xplot)\n",
    "plt.plot(Xplot, m_mean, label=\"m.predict\")\n",
    "plt.plot(Xplot, gpflow_mean, label=\"gpflow_m.predict\")\n",
    "plt.legend()\n",
    "```"
   ]
  },
  {
   "cell_type": "code",
   "execution_count": 38,
   "metadata": {
    "slideshow": {
     "slide_type": "fragment"
    }
   },
   "outputs": [
    {
     "data": {
      "text/plain": [
       "<matplotlib.legend.Legend at 0x7d735c6a76d0>"
      ]
     },
     "execution_count": 38,
     "metadata": {},
     "output_type": "execute_result"
    },
    {
     "data": {
      "image/png": "[encoded data removed]",
      "text/plain": [
       "<Figure size 640x480 with 1 Axes>"
      ]
     },
     "metadata": {},
     "output_type": "display_data"
    }
   ],
   "source": [
    "Xplot = np.linspace([0.0], [1.0], 200)\n",
    "m_mean, _ = m.predict(Xplot)\n",
    "gpflow_mean, _ = gpflow_m.predict_f(Xplot)\n",
    "plt.plot(Xplot, m_mean, label=\"m.predict\")\n",
    "plt.plot(Xplot, gpflow_mean, label=\"gpflow_m.predict\")\n",
    "plt.scatter(data.query_points, data.observations, label=\"data\")\n",
    "plt.legend()"
   ]
  },
  {
   "cell_type": "markdown",
   "metadata": {
    "slideshow": {
     "slide_type": "subslide"
    }
   },
   "source": [
    "Because cache of trieste model is not updated..."
   ]
  },
  {
   "cell_type": "markdown",
   "metadata": {
    "slideshow": {
     "slide_type": "subslide"
    }
   },
   "source": [
    "### Fix 1\n",
    "\n",
    "Update cache:\n",
    "```\n",
    "Xplot = np.linspace([0.0], [1.0], 200)\n",
    "m.update_posterior_cache()\n",
    "m_mean, _ = m.predict(Xplot)\n",
    "gpflow_mean, _ = gpflow_m.predict_f(Xplot)\n",
    "plt.plot(Xplot, m_mean, label=\"m.predict\")\n",
    "plt.plot(Xplot, gpflow_mean, label=\"gpflow_m.predict\")\n",
    "plt.scatter(data.query_points, data.observations, label=\"data\")\n",
    "plt.legend()\n",
    "```"
   ]
  },
  {
   "cell_type": "code",
   "execution_count": 39,
   "metadata": {
    "slideshow": {
     "slide_type": "subslide"
    }
   },
   "outputs": [
    {
     "data": {
      "text/plain": [
       "<matplotlib.legend.Legend at 0x7d735c6cf9d0>"
      ]
     },
     "execution_count": 39,
     "metadata": {},
     "output_type": "execute_result"
    },
    {
     "data": {
      "image/png": "[encoded data removed]",
      "text/plain": [
       "<Figure size 640x480 with 1 Axes>"
      ]
     },
     "metadata": {},
     "output_type": "display_data"
    }
   ],
   "source": [
    "Xplot = np.linspace([0.0], [1.0], 200)\n",
    "m.update_posterior_cache()\n",
    "m_mean, _ = m.predict(Xplot)\n",
    "gpflow_mean, _ = gpflow_m.predict_f(Xplot)\n",
    "plt.plot(Xplot, m_mean, label=\"m.predict\")\n",
    "plt.plot(Xplot, gpflow_mean, label=\"gpflow_m.predict\")\n",
    "plt.scatter(data.query_points, data.observations, label=\"data\")\n",
    "plt.legend()"
   ]
  },
  {
   "cell_type": "markdown",
   "metadata": {
    "slideshow": {
     "slide_type": "subslide"
    }
   },
   "source": [
    "### Fix 2\n",
    "Create trieste model after learning gpflow\n",
    "\n",
    "\n",
    "```\n",
    "n = 10\n",
    "X = np.random.default_rng(12345).random((n, 1))\n",
    "data = f_observer(X)\n",
    "search_space = search_space = trieste.space.Box([0.], [1.])\n",
    "\n",
    "gpflow_m = trieste.models.gpflow.build_gpr(data, search_space)\n",
    "optimiser = gpflow.optimizers.Scipy()\n",
    "optimiser.minimize(gpflow_m.training_loss, gpflow_m.trainable_variables)\n",
    "\n",
    "m = trieste.models.gpflow.GaussianProcessRegression(gpflow_m)\n",
    "```"
   ]
  },
  {
   "cell_type": "markdown",
   "metadata": {},
   "source": []
  }
 ],
 "metadata": {
  "@webio": {
   "lastCommId": null,
   "lastKernelId": null
  },
  "kernelspec": {
   "display_name": ".venv",
   "language": "python",
   "name": "python3"
  },
  "language_info": {
   "codemirror_mode": {
    "name": "ipython",
    "version": 3
   },
   "file_extension": ".py",
   "mimetype": "text/x-python",
   "name": "python",
   "nbconvert_exporter": "python",
   "pygments_lexer": "ipython3",
   "version": "3.11.9"
  }
 },
 "nbformat": 4,
 "nbformat_minor": 2
}
